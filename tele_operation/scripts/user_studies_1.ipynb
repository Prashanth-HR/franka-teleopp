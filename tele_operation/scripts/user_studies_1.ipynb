{
 "cells": [
  {
   "cell_type": "code",
   "execution_count": 3,
   "metadata": {},
   "outputs": [],
   "source": [
    "%load_ext autoreload\n",
    "%autoreload 2"
   ]
  },
  {
   "cell_type": "code",
   "execution_count": 2,
   "metadata": {},
   "outputs": [],
   "source": [
    "import rospy\n",
    "import numpy as np\n",
    "import tf_conversions\n",
    "from robot import Robot"
   ]
  },
  {
   "cell_type": "code",
   "execution_count": 5,
   "metadata": {},
   "outputs": [],
   "source": [
    "rospy.init_node('test')\n",
    "\n",
    "\n",
    "# # For single control - cartesian_impedence_controller in franka_example_controller\n",
    "# robot = Robot(topic='/franka_state_controller/franka_states')\n",
    "\n",
    "# # For single control - franka-ros-interface\n",
    "# robot = Robot(topic='/franka_ros_interface/custom_franka_state_controller/robot_state')\n",
    "\n",
    "# For teleopp\n",
    "robot = Robot(topic='panda_teleop/follower_state_controller/franka_states')"
   ]
  },
  {
   "cell_type": "markdown",
   "metadata": {},
   "source": [
    "#### Error recovery for single control follower robot"
   ]
  },
  {
   "cell_type": "code",
   "execution_count": 29,
   "metadata": {},
   "outputs": [
    {
     "name": "stdout",
     "output_type": "stream",
     "text": [
      "publishing and latching message for 3.0 seconds\n"
     ]
    }
   ],
   "source": [
    "!rostopic pub -1 /franka_ros_interface/franka_control/error_recovery/goal franka_msgs/ErrorRecoveryActionGoal \"{}\""
   ]
  },
  {
   "cell_type": "markdown",
   "metadata": {},
   "source": [
    "#### Record bottelneck poses"
   ]
  },
  {
   "cell_type": "code",
   "execution_count": 3,
   "metadata": {},
   "outputs": [],
   "source": [
    "poses = []"
   ]
  },
  {
   "cell_type": "code",
   "execution_count": 8,
   "metadata": {},
   "outputs": [],
   "source": [
    "pose = robot.wait_for_initial_pose()\n",
    "poses.append(pose)"
   ]
  },
  {
   "cell_type": "code",
   "execution_count": 10,
   "metadata": {},
   "outputs": [],
   "source": [
    "np.save('./data/poses.npy', poses)"
   ]
  },
  {
   "cell_type": "markdown",
   "metadata": {},
   "source": [
    "#### Compute the weighted average for the recorded poses"
   ]
  },
  {
   "cell_type": "code",
   "execution_count": 11,
   "metadata": {},
   "outputs": [
    {
     "data": {
      "text/plain": [
       "position: \n",
       "  x: 0.5113463702810195\n",
       "  y: 0.002981604851764657\n",
       "  z: 0.11849767443373138\n",
       "orientation: \n",
       "  x: 0.9997402717888154\n",
       "  y: 0.005802790763839914\n",
       "  z: 0.0019010661577782072\n",
       "  w: -0.021956833342726596"
      ]
     },
     "execution_count": 11,
     "metadata": {},
     "output_type": "execute_result"
    }
   ],
   "source": [
    "poses = np.load('./data/poses.npy', allow_pickle=True)\n",
    "pos_ori = []\n",
    "for i, pose in enumerate(poses):\n",
    "    bottleneck_pose = tf_conversions.fromMsg(pose)\n",
    "    pos = bottleneck_pose.p\n",
    "    ori = bottleneck_pose.M.GetQuaternion()\n",
    "    pos_ori.append([*pos,  *ori])\n",
    "\n",
    "pos_ori = np.array(pos_ori)\n",
    "\n",
    "weights = [1.0, 0.0, 0.0]\n",
    "# position weighted\n",
    "pos_w = sum(w * p for p, w in zip(pos_ori[:,:3], weights))\n",
    "# orientation weighted\n",
    "A = sum(w * (np.outer(q, q)) for q, w in zip(pos_ori[:,3:], weights))\n",
    "ori_w = np.linalg.eigh(A)[1][:, -1]\n",
    "\n",
    "weighted_b_pose = tf_conversions.fromTf((pos_w, ori_w))\n",
    "tf_conversions.toMsg(weighted_b_pose)"
   ]
  },
  {
   "cell_type": "code",
   "execution_count": 12,
   "metadata": {},
   "outputs": [],
   "source": [
    "np.save('./data/weighted_bottleneck.npy', tf_conversions.toMsg(weighted_b_pose))"
   ]
  },
  {
   "cell_type": "markdown",
   "metadata": {},
   "source": [
    "#### Move the robot to the calculated bottleneck pose"
   ]
  },
  {
   "cell_type": "code",
   "execution_count": null,
   "metadata": {},
   "outputs": [],
   "source": [
    "import sys\n",
    "# adding to the system path\n",
    "sys.path.insert(0, '/home/prashanth/Thesis/Imitation-Learning/')\n",
    "from Robot.sawyer import Sawyer\n",
    "\n",
    "robot = Sawyer()\n"
   ]
  },
  {
   "cell_type": "code",
   "execution_count": 14,
   "metadata": {},
   "outputs": [
    {
     "name": "stdout",
     "output_type": "stream",
     "text": [
      "[INFO] [1692640169.557521]: PandaArm: Trajectory controlling complete\n"
     ]
    }
   ],
   "source": [
    "robot.move_to_pose(weighted_b_pose)\n"
   ]
  },
  {
   "cell_type": "markdown",
   "metadata": {},
   "source": [
    "##### Alternative to the above if using a impedance controller fron frankla-example-controllers"
   ]
  },
  {
   "cell_type": "code",
   "execution_count": 53,
   "metadata": {},
   "outputs": [],
   "source": [
    "from geometry_msgs.msg import PoseStamped\n",
    "link_name = rospy.get_param(\"/interactive_marker/link_name\")\n",
    "pose_pub = rospy.Publisher('/cartesian_impedance_example_controller/equilibrium_pose', PoseStamped, queue_size=10)\n",
    "\n",
    "pose_stamped = PoseStamped()\n",
    "pose_stamped.pose = tf_conversions.toMsg(weighted_b_pose)\n",
    "pose_stamped.header.frame_id = link_name\n",
    "pose_stamped.header.stamp = rospy.Time(0)\n",
    "pose_pub.publish(pose_stamped)"
   ]
  },
  {
   "cell_type": "markdown",
   "metadata": {},
   "source": [
    "#### Record interaction trajectory for Ergodic exploration"
   ]
  },
  {
   "cell_type": "code",
   "execution_count": 107,
   "metadata": {},
   "outputs": [
    {
     "name": "stdout",
     "output_type": "stream",
     "text": [
      "publishing and latching message for 3.0 seconds\n"
     ]
    }
   ],
   "source": [
    "!rostopic pub -1 /panda_teleop/error_recovery/goal franka_msgs/ErrorRecoveryActionGoal \"{}\""
   ]
  },
  {
   "cell_type": "code",
   "execution_count": 6,
   "metadata": {},
   "outputs": [],
   "source": [
    "# For teleopp\n",
    "robot = Robot(topic='panda_teleop/follower_state_controller/franka_states')\n",
    "ros_rate = rospy.Rate(30)\n",
    "\n"
   ]
  },
  {
   "cell_type": "code",
   "execution_count": null,
   "metadata": {},
   "outputs": [],
   "source": [
    "robot.wait_for_initial_pose()"
   ]
  },
  {
   "cell_type": "code",
   "execution_count": 132,
   "metadata": {},
   "outputs": [],
   "source": [
    "import pandas as pd\n",
    "\n",
    "keys = {\n",
    "    'B_bw2': [],\n",
    "    'B_bw5': [],\n",
    "    'B_bw20': [],\n",
    "    'B_bw50': [],\n",
    "    'B_bw100': [],\n",
    "    'Time_approach_B_bw2': [],\n",
    "    'Time_approach_B_bw5': [],\n",
    "    'Time_approach_B_bw20': [],\n",
    "    'Time_approach_B_bw50': [],\n",
    "    'Time_approach_B_bw100': [],\n",
    "    'Time_interaction_B_bw2': [],\n",
    "    'Time_interaction_B_bw5': [],\n",
    "    'Time_interaction_B_bw20': [],\n",
    "    'Time_interaction_B_bw50': [],\n",
    "    'Time_interaction_B_bw100': [],\n",
    "\n",
    "}\n",
    "\n",
    "df = pd.DataFrame(keys)\n",
    "df.head()\n",
    "\n",
    "\n",
    "df_row = {\n",
    "    'B_bw2': None,\n",
    "    'B_bw5': None,\n",
    "    'B_bw20': None,\n",
    "    'B_bw50': None,\n",
    "    'B_bw100': None,\n",
    "    'Time_approach_B_bw2': None,\n",
    "    'Time_approach_B_bw5': None,\n",
    "    'Time_approach_B_bw20': None,\n",
    "    'Time_approach_B_bw50': None,\n",
    "    'Time_approach_B_bw100': None,\n",
    "    'Time_interaction_B_bw2': None,\n",
    "    'Time_interaction_B_bw5': None,\n",
    "    'Time_interaction_B_bw20': None,\n",
    "    'Time_interaction_B_bw50': None,\n",
    "    'Time_interaction_B_bw100': None,}"
   ]
  },
  {
   "cell_type": "markdown",
   "metadata": {},
   "source": [
    "#### For each person"
   ]
  },
  {
   "cell_type": "code",
   "execution_count": 153,
   "metadata": {},
   "outputs": [],
   "source": [
    "# To be changed\n",
    "data_path = './data/22/'\n",
    "filename = 'B_bw100'\n",
    "\n",
    "import time\n",
    "\n",
    "trajectory = []\n",
    "approach_start = time.time()\n"
   ]
  },
  {
   "cell_type": "code",
   "execution_count": 154,
   "metadata": {},
   "outputs": [
    {
     "name": "stdout",
     "output_type": "stream",
     "text": [
      "Stopping recording and saving. \n",
      " Length of traj: 406\n"
     ]
    }
   ],
   "source": [
    "approach_end = time.time()\n",
    "df_row['Time_approach_'+str(filename)] = approach_end - approach_start\n",
    "start = time.time()\n",
    "try:\n",
    "    while True:\n",
    "        pose = robot.wait_for_initial_pose()\n",
    "        trajectory.append(pose)\n",
    "        ros_rate.sleep()\n",
    "except KeyboardInterrupt :\n",
    "    end = time.time()\n",
    "    interaction_time = end - start\n",
    "    print('Stopping recording and saving. \\n Length of traj: {}'.format(len(trajectory)))\n",
    "    # Save the trajectory\n",
    "    np.save(data_path+'traj_'+filename+'.npy', trajectory)\n",
    "\n",
    "    bottleneck_pose = tf_conversions.fromMsg(trajectory[0])\n",
    "    pos = bottleneck_pose.p\n",
    "    ori = bottleneck_pose.M.GetQuaternion()\n",
    "    \n",
    "\n",
    "    df_row[str(filename)] = [*pos,  *ori]\n",
    "    df_row['Time_interaction_'+str(filename)] = interaction_time\n",
    "    \n"
   ]
  },
  {
   "cell_type": "code",
   "execution_count": 157,
   "metadata": {},
   "outputs": [
    {
     "name": "stderr",
     "output_type": "stream",
     "text": [
      "/home/prashanth/.local/lib/python3.8/site-packages/pandas/core/dtypes/cast.py:948: VisibleDeprecationWarning: Creating an ndarray from ragged nested sequences (which is a list-or-tuple of lists-or-tuples-or ndarrays with different lengths or shapes) is deprecated. If you meant to do this, you must specify 'dtype=object' when creating the ndarray.\n",
      "  element = np.asarray(element)\n"
     ]
    },
    {
     "data": {
      "text/html": [
       "<div>\n",
       "<style scoped>\n",
       "    .dataframe tbody tr th:only-of-type {\n",
       "        vertical-align: middle;\n",
       "    }\n",
       "\n",
       "    .dataframe tbody tr th {\n",
       "        vertical-align: top;\n",
       "    }\n",
       "\n",
       "    .dataframe thead th {\n",
       "        text-align: right;\n",
       "    }\n",
       "</style>\n",
       "<table border=\"1\" class=\"dataframe\">\n",
       "  <thead>\n",
       "    <tr style=\"text-align: right;\">\n",
       "      <th></th>\n",
       "      <th>B_bw2</th>\n",
       "      <th>B_bw5</th>\n",
       "      <th>B_bw20</th>\n",
       "      <th>B_bw50</th>\n",
       "      <th>B_bw100</th>\n",
       "      <th>Time_approach_B_bw2</th>\n",
       "      <th>Time_approach_B_bw5</th>\n",
       "      <th>Time_approach_B_bw20</th>\n",
       "      <th>Time_approach_B_bw50</th>\n",
       "      <th>Time_approach_B_bw100</th>\n",
       "      <th>Time_interaction_B_bw2</th>\n",
       "      <th>Time_interaction_B_bw5</th>\n",
       "      <th>Time_interaction_B_bw20</th>\n",
       "      <th>Time_interaction_B_bw50</th>\n",
       "      <th>Time_interaction_B_bw100</th>\n",
       "    </tr>\n",
       "  </thead>\n",
       "  <tbody>\n",
       "    <tr>\n",
       "      <th>0</th>\n",
       "      <td>[0.5149700536081212, 0.0005244380242898284, 0....</td>\n",
       "      <td>[0.49737543482733365, 0.013753616368447782, 0....</td>\n",
       "      <td>[0.4940946870804789, 0.009318280303112339, 0.1...</td>\n",
       "      <td>[0.5093781709436864, 0.0009600984092425593, 0....</td>\n",
       "      <td>[0.5094123694238064, 0.004342684049733807, 0.0...</td>\n",
       "      <td>22.045897</td>\n",
       "      <td>16.542577</td>\n",
       "      <td>11.536834</td>\n",
       "      <td>10.848669</td>\n",
       "      <td>10.637237</td>\n",
       "      <td>28.969926</td>\n",
       "      <td>8.700356</td>\n",
       "      <td>12.171503</td>\n",
       "      <td>15.484954</td>\n",
       "      <td>13.812867</td>\n",
       "    </tr>\n",
       "  </tbody>\n",
       "</table>\n",
       "</div>"
      ],
      "text/plain": [
       "                                               B_bw2  \\\n",
       "0  [0.5149700536081212, 0.0005244380242898284, 0....   \n",
       "\n",
       "                                               B_bw5  \\\n",
       "0  [0.49737543482733365, 0.013753616368447782, 0....   \n",
       "\n",
       "                                              B_bw20  \\\n",
       "0  [0.4940946870804789, 0.009318280303112339, 0.1...   \n",
       "\n",
       "                                              B_bw50  \\\n",
       "0  [0.5093781709436864, 0.0009600984092425593, 0....   \n",
       "\n",
       "                                             B_bw100  Time_approach_B_bw2  \\\n",
       "0  [0.5094123694238064, 0.004342684049733807, 0.0...            22.045897   \n",
       "\n",
       "   Time_approach_B_bw5  Time_approach_B_bw20  Time_approach_B_bw50  \\\n",
       "0            16.542577             11.536834             10.848669   \n",
       "\n",
       "   Time_approach_B_bw100  Time_interaction_B_bw2  Time_interaction_B_bw5  \\\n",
       "0              10.637237               28.969926                8.700356   \n",
       "\n",
       "   Time_interaction_B_bw20  Time_interaction_B_bw50  Time_interaction_B_bw100  \n",
       "0                12.171503                15.484954                 13.812867  "
      ]
     },
     "execution_count": 157,
     "metadata": {},
     "output_type": "execute_result"
    }
   ],
   "source": [
    "df.loc[len(df)] = df_row\n",
    "df"
   ]
  },
  {
   "cell_type": "markdown",
   "metadata": {},
   "source": [
    "#### Save demonstration statistics"
   ]
  },
  {
   "cell_type": "code",
   "execution_count": 158,
   "metadata": {},
   "outputs": [],
   "source": [
    "df.to_csv(data_path+'demo_stats.csv', index=False)"
   ]
  },
  {
   "cell_type": "markdown",
   "metadata": {},
   "source": [
    "#### Learn Ergodic exploration from the recorded trrajectory"
   ]
  },
  {
   "cell_type": "code",
   "execution_count": null,
   "metadata": {},
   "outputs": [],
   "source": []
  },
  {
   "cell_type": "markdown",
   "metadata": {},
   "source": [
    "#### Execute obj approach"
   ]
  },
  {
   "cell_type": "code",
   "execution_count": null,
   "metadata": {},
   "outputs": [],
   "source": []
  },
  {
   "cell_type": "markdown",
   "metadata": {},
   "source": [
    "### Execute obj interaction"
   ]
  },
  {
   "cell_type": "markdown",
   "metadata": {},
   "source": []
  }
 ],
 "metadata": {
  "kernelspec": {
   "display_name": "Python 3.8.10 64-bit",
   "language": "python",
   "name": "python3"
  },
  "language_info": {
   "codemirror_mode": {
    "name": "ipython",
    "version": 3
   },
   "file_extension": ".py",
   "mimetype": "text/x-python",
   "name": "python",
   "nbconvert_exporter": "python",
   "pygments_lexer": "ipython3",
   "version": "3.8.10"
  },
  "orig_nbformat": 4,
  "vscode": {
   "interpreter": {
    "hash": "916dbcbb3f70747c44a77c7bcd40155683ae19c65e1c03b4aa3499c5328201f1"
   }
  }
 },
 "nbformat": 4,
 "nbformat_minor": 2
}
