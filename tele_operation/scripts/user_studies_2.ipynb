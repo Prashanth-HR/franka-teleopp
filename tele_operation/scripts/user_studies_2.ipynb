{
 "cells": [
  {
   "cell_type": "markdown",
   "metadata": {},
   "source": [
    "### User studies 2nd attempt to record multiple poses in approach trajectory"
   ]
  },
  {
   "cell_type": "code",
   "execution_count": null,
   "metadata": {},
   "outputs": [],
   "source": [
    "%load_ext autoreload\n",
    "%autoreload 2"
   ]
  },
  {
   "cell_type": "code",
   "execution_count": 1,
   "metadata": {},
   "outputs": [],
   "source": [
    "import rospy\n",
    "import numpy as np\n",
    "import tf_conversions\n",
    "from robot import Robot"
   ]
  },
  {
   "cell_type": "code",
   "execution_count": 3,
   "metadata": {},
   "outputs": [],
   "source": [
    "rospy.init_node('test')\n",
    "\n",
    "\n",
    "# # For single control - cartesian_impedence_controller in franka_example_controller\n",
    "# robot = Robot(topic='/franka_state_controller/franka_states')\n",
    "\n",
    "# # For single control - franka-ros-interface\n",
    "# robot = Robot(topic='/franka_ros_interface/custom_franka_state_controller/robot_state')\n",
    "\n",
    "# For teleopp\n",
    "robot = Robot(topic='panda_teleop/follower_state_controller/franka_states')"
   ]
  },
  {
   "cell_type": "markdown",
   "metadata": {},
   "source": [
    "#### Error recovery for single control follower robot"
   ]
  },
  {
   "cell_type": "code",
   "execution_count": 91,
   "metadata": {},
   "outputs": [
    {
     "name": "stdout",
     "output_type": "stream",
     "text": [
      "publishing and latching message for 3.0 seconds\n"
     ]
    }
   ],
   "source": [
    "!rostopic pub -1 /panda_teleop/error_recovery/goal franka_msgs/ErrorRecoveryActionGoal \"{}\""
   ]
  },
  {
   "cell_type": "markdown",
   "metadata": {},
   "source": [
    "#### Record bottelneck poses"
   ]
  },
  {
   "cell_type": "code",
   "execution_count": 155,
   "metadata": {},
   "outputs": [],
   "source": [
    "import time\n",
    "\n",
    "poses = []\n",
    "ros_rate = rospy.Rate(2) # 2 for each sec\n",
    "\n",
    "# To be changed\n",
    "data_path = './data/12/'\n",
    "BW = 'BW2'"
   ]
  },
  {
   "cell_type": "code",
   "execution_count": 157,
   "metadata": {},
   "outputs": [
    {
     "name": "stdout",
     "output_type": "stream",
     "text": [
      "Stopping recording and saving. \n",
      " Length of traj: 26\n",
      "Time_interaction: 10.22854995727539\n"
     ]
    }
   ],
   "source": [
    "approach_end = time.time()\n",
    "start = time.time()\n",
    "try:\n",
    "    while True:\n",
    "        pose = robot.wait_for_initial_pose()\n",
    "        poses.append(pose)\n",
    "        ros_rate.sleep()\n",
    "except KeyboardInterrupt :\n",
    "    end = time.time()\n",
    "    interaction_time = end - start\n",
    "    print('Stopping recording and saving. \\n Length of traj: {}'.format(len(poses)))\n",
    "    # Save the trajectory\n",
    "    np.save(data_path+'poses_'+BW+'.npy', poses)\n",
    "    \n",
    "    print('Time_interaction: {}'.format(interaction_time)) \n",
    "    \n"
   ]
  }
 ],
 "metadata": {
  "kernelspec": {
   "display_name": "Python 3.8.10 64-bit",
   "language": "python",
   "name": "python3"
  },
  "language_info": {
   "codemirror_mode": {
    "name": "ipython",
    "version": 3
   },
   "file_extension": ".py",
   "mimetype": "text/x-python",
   "name": "python",
   "nbconvert_exporter": "python",
   "pygments_lexer": "ipython3",
   "version": "3.8.10"
  },
  "orig_nbformat": 4,
  "vscode": {
   "interpreter": {
    "hash": "916dbcbb3f70747c44a77c7bcd40155683ae19c65e1c03b4aa3499c5328201f1"
   }
  }
 },
 "nbformat": 4,
 "nbformat_minor": 2
}
